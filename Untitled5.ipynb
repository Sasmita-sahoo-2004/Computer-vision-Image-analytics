{
 "cells": [
  {
   "cell_type": "code",
   "execution_count": 1,
   "id": "78ed413e",
   "metadata": {},
   "outputs": [
    {
     "ename": "ModuleNotFoundError",
     "evalue": "No module named 'freenect'",
     "output_type": "error",
     "traceback": [
      "\u001b[1;31m---------------------------------------------------------------------------\u001b[0m",
      "\u001b[1;31mModuleNotFoundError\u001b[0m                       Traceback (most recent call last)",
      "Cell \u001b[1;32mIn[1], line 2\u001b[0m\n\u001b[0;32m      1\u001b[0m \u001b[38;5;66;03m# import the necessary modules\u001b[39;00m\n\u001b[1;32m----> 2\u001b[0m \u001b[38;5;28;01mimport\u001b[39;00m \u001b[38;5;21;01mfreenect\u001b[39;00m\n\u001b[0;32m      3\u001b[0m \u001b[38;5;28;01mimport\u001b[39;00m \u001b[38;5;21;01mcv2\u001b[39;00m\n\u001b[0;32m      4\u001b[0m \u001b[38;5;28;01mimport\u001b[39;00m \u001b[38;5;21;01mnumpy\u001b[39;00m \u001b[38;5;28;01mas\u001b[39;00m \u001b[38;5;21;01mnp\u001b[39;00m\n",
      "\u001b[1;31mModuleNotFoundError\u001b[0m: No module named 'freenect'"
     ]
    }
   ],
   "source": [
    "# import the necessary modules\n",
    "import freenect\n",
    "import cv2\n",
    "import numpy as np\n",
    "import math\n",
    "import vlc\n",
    "import time\n",
    "import webbrowser\n",
    "import playsound\n",
    "\n",
    "\n",
    "# function to get RGB image from kinect\n",
    "def get_video():\n",
    "    array, _ = freenect.sync_get_video()\n",
    "    array = cv2.cvtColor(array, cv2.COLOR_RGB2BGR)\n",
    "    return array\n",
    "\n",
    "\n",
    "# function to get depth image from kinect\n",
    "def get_depth(value):\n",
    "    depth, _ = freenect.sync_get_depth() #depth is a numpy array which stores the depth value of each pixel captured\n",
    "    rgbframes, _ = freenect.sync_get_video() #rgbframes is a numpy array which stores rgb value of each pixel captured\n",
    "    rgbframes = cv2.cvtColor(rgbframes, cv2.COLOR_RGB2BGR) #we convert rgb format to bgr color space. We did this because OpenCV works with bgr formats for historical reasons (no technicalities involved)\n",
    "    depth_mask = np.where(depth < 650, 255, 0).astype(np.uint8) # wherever the depth value<650 in the np array named depth, change that value to 255(rgb of white) and wherever the depth value is more then at those places substitute the value with 0(rgb of black). astype(np.uint8)is just to ensure all pixel values are from 0 to 255. This new np array is called depth_mask. So depth mask is an array with white colour at all places with depth<650 and black color everywhere else.\n",
    "    thresh1=depth_mask.copy() # we create a copy of the depth_mask array and store it in thresh1 for computations further\n",
    "    image, contours, hierarchy = cv2.findContours(thresh1.copy(),cv2.RETR_TREE, cv2.CHAIN_APPROX_NONE)# findContours function of the openCV finds the contours on our depth map. Note that our depth map has no background. It is just plain black and white. white for the pixel which are closer than 650 depth to the camera.\n",
    "    cnt = max(contours, key=lambda x: cv2.contourArea(x)) \n",
    "    x, y, w, h = cv2.boundingRect(cnt)\n",
    "    rec_tuple=(x,y,x+w,y+h)\n",
    "    #print (rec_tuple)\n",
    "    #print (cnt)\n",
    "    cv2.rectangle(thresh1, (x, y), (x + w, y + h), (255, 255, 255), 0)\n",
    "    cv2.rectangle(rgbframes, (x, y), (x + w, y + h), (255, 0, 0), 0)\n",
    "    hull = cv2.convexHull(cnt)\n",
    "    drawing = np.zeros(depth_mask.shape, np.uint8)\n",
    "    cv2.drawContours(drawing,[cnt],0,(0,255,0),0)\n",
    "    cv2.drawContours(drawing,[hull],0,(0,0,255),0)\n",
    "    hull = cv2.convexHull(cnt,returnPoints = False)\n",
    "    defects = cv2.convexityDefects(cnt,hull)\n",
    "    count_defects = 0\n",
    "    cv2.drawContours(thresh1, contours, -1, (0,255,0), 3)\n",
    "    cv2.drawContours(rgbframes, contours, -1, (0, 255, 0), 3)\n",
    "    for i in range(defects.shape[0]):\n",
    "        s, e, f, d = defects[i, 0]\n",
    "        start = tuple(cnt[s][0])\n",
    "        end = tuple(cnt[e][0])\n",
    "        far = tuple(cnt[f][0])\n",
    "        a = math.sqrt((end[0] - start[0]) ** 2 + (end[1] - start[1]) ** 2)\n",
    "        b = math.sqrt((far[0] - start[0]) ** 2 + (far[1] - start[1]) ** 2)\n",
    "        c = math.sqrt((end[0] - far[0]) ** 2 + (end[1] - far[1]) ** 2)\n",
    "        angle = math.acos((b ** 2 + c ** 2 - a ** 2) / (2 * b * c)) * 57\n",
    "        if angle <= 90:\n",
    "            count_defects += 1\n",
    "            cv2.circle(thresh1, far, 1, [127, 127, 127], -1)\n",
    "            cv2.circle(rgbframes, far, 1, [255, 0, 0], -1)\n",
    "        # dist = cv2.pointPolygonTest(cnt,far,True)\n",
    "        cv2.line(thresh1, start, end, [255, 255, 255], 2)\n",
    "        cv2.line(rgbframes, start, end, [0, 0, 255], 2)\n",
    "        # cv2.circle(crop_img,far,5,[0,0,255],-1)\n",
    "    cv2.imshow('Thresholded', thresh1)\n",
    "    if value == 0:\n",
    "        cv2.putText(rgbframes, \"Hiiiii!!!!\", (50, 50), cv2.FONT_HERSHEY_SIMPLEX, 2,(255,0,0), 5)\n",
    "    elif value == 1:\n",
    "        cv2.putText(rgbframes,\"How are You?\", (50, 50), cv2.FONT_HERSHEY_SIMPLEX, 2, (255,0,0),5)\n",
    "    elif value == 2:\n",
    "        cv2.putText(rgbframes, \"I am fine, thankyou!!\", (50, 50), cv2.FONT_HERSHEY_SIMPLEX, 2,(255,0,0),4)\n",
    "    elif value==3:\n",
    "        cv2.putText(rgbframes, \"nonennenenene\", (50, 50), cv2.FONT_HERSHEY_SIMPLEX, 2, 2)\n",
    "    cv2.imshow('rgbframes', rgbframes)\n",
    "    if count_defects == 1:\n",
    "        return 0\n",
    "    elif count_defects == 3:\n",
    "        return 1\n",
    "    elif count_defects == 5:\n",
    "        return 2\n",
    "    else:\n",
    "        return 3\n",
    "\n",
    "if __name__ == \"__main__\":\n",
    "    matrix=[0,0,0,0]\n",
    "    value=2\n",
    "    i=0\n",
    "    while(1):\n",
    "        print (\"i=\",i,\" value=\",value)\n",
    "        if(i%30==0):\n",
    "            j = 1\n",
    "            maxind=0\n",
    "            print (\"matrix is \",matrix)\n",
    "            while(j<3):\n",
    "                if(matrix[j] > matrix[maxind]):\n",
    "                    maxind=j\n",
    "                j+=1\n",
    "            value=maxind\n",
    "            if value==0:\n",
    "            #playsound.playsound(\"hi.mp3\")\n",
    "               pass\n",
    "            if value==1:\n",
    "                p = vlc.MediaPlayer(\"/home/digvijay/Documents/howAreYou.mp3\")\n",
    "                p.play()\n",
    "            if value==2:\n",
    "                p = vlc.MediaPlayer(\"/home/digvijay/Documents/iAmFine.mp3\")\n",
    "                p.play()\n",
    "\n",
    "            matrix=[0,0,0,0]\n",
    "        else:\n",
    "            index=get_depth(value)\n",
    "            print (\"index=\",index)\n",
    "            matrix[index]+=1\n",
    "        i+=1\n",
    "        # get a frame from RGB camera\n",
    "        #frame = get_video()\n",
    "        # get a frame from depth sensor\n",
    "        #depth = get_depth()\n",
    "        # display RGB image\n",
    "        #cv2.imshow('RGB image', frame)\n",
    "        # display depth image\n",
    "        #cv2.imshow('Depth image', depth)\n",
    "        # quit program when 'esc' key is pressed\n",
    "        k = cv2.waitKey(5) & 0xFF\n",
    "        if k == 27:\n",
    "            break\n",
    "            cv2.destroyAllWindows()"
   ]
  },
  {
   "cell_type": "code",
   "execution_count": 2,
   "id": "80193458",
   "metadata": {},
   "outputs": [
    {
     "name": "stderr",
     "output_type": "stream",
     "text": [
      "'sudo' is not recognized as an internal or external command,\n",
      "operable program or batch file.\n",
      "'sudo' is not recognized as an internal or external command,\n",
      "operable program or batch file.\n"
     ]
    },
    {
     "name": "stdout",
     "output_type": "stream",
     "text": [
      "C:\\Users\\HP\\libfreenect\n"
     ]
    },
    {
     "name": "stderr",
     "output_type": "stream",
     "text": [
      "Cloning into 'libfreenect'...\n"
     ]
    },
    {
     "name": "stdout",
     "output_type": "stream",
     "text": [
      "C:\\Users\\HP\\libfreenect\\build\n"
     ]
    },
    {
     "name": "stderr",
     "output_type": "stream",
     "text": [
      "'cmake' is not recognized as an internal or external command,\n",
      "operable program or batch file.\n",
      "'make' is not recognized as an internal or external command,\n",
      "operable program or batch file.\n"
     ]
    },
    {
     "name": "stdout",
     "output_type": "stream",
     "text": [
      "C:\\Users\\HP\n"
     ]
    },
    {
     "name": "stderr",
     "output_type": "stream",
     "text": [
      "'sudo' is not recognized as an internal or external command,\n",
      "operable program or batch file.\n"
     ]
    }
   ],
   "source": [
    "# Install dependencies required for building freenect\n",
    "!sudo apt-get install build-essential cmake pkg-config\n",
    "!sudo apt-get install libusb-1.0-0-dev\n",
    "\n",
    "# Clone the freenect repository from GitHub\n",
    "!git clone https://github.com/OpenKinect/libfreenect.git\n",
    "\n",
    "# Change directory to the libfreenect folder\n",
    "%cd libfreenect\n",
    "\n",
    "# Build and install freenect\n",
    "!mkdir build\n",
    "%cd build\n",
    "!cmake ..\n",
    "!make\n",
    "!sudo make install\n",
    "\n",
    "# Return to the original directory\n",
    "%cd ../..\n"
   ]
  },
  {
   "cell_type": "code",
   "execution_count": null,
   "id": "3a81565b",
   "metadata": {},
   "outputs": [],
   "source": []
  }
 ],
 "metadata": {
  "kernelspec": {
   "display_name": "Python 3 (ipykernel)",
   "language": "python",
   "name": "python3"
  },
  "language_info": {
   "codemirror_mode": {
    "name": "ipython",
    "version": 3
   },
   "file_extension": ".py",
   "mimetype": "text/x-python",
   "name": "python",
   "nbconvert_exporter": "python",
   "pygments_lexer": "ipython3",
   "version": "3.11.5"
  }
 },
 "nbformat": 4,
 "nbformat_minor": 5
}
